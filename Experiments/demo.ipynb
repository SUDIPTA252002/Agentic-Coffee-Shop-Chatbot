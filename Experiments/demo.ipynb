{
 "cells": [
  {
   "cell_type": "code",
   "execution_count": 12,
   "id": "8296c8c4",
   "metadata": {},
   "outputs": [],
   "source": [
    "from langchain_groq import ChatGroq\n",
    "from dotenv import load_dotenv\n",
    "import os\n",
    "import json\n",
    "from copy import deepcopy"
   ]
  },
  {
   "cell_type": "code",
   "execution_count": 13,
   "id": "d659b241",
   "metadata": {},
   "outputs": [
    {
     "name": "stdout",
     "output_type": "stream",
     "text": [
      "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\n",
      "llama3-8b-8192\n"
     ]
    }
   ],
   "source": [
    "api_key=os.getenv(\"GROQ_API_KEY\")\n",
    "model_name=os.getenv(\"MODEL_NAME\")\n",
    "print(api_key)\n",
    "print(model_name)"
   ]
  },
  {
   "cell_type": "code",
   "execution_count": 18,
   "id": "844afbec",
   "metadata": {},
   "outputs": [],
   "source": [
    "client=ChatGroq(api_key=api_key,model=model_name)"
   ]
  },
  {
   "cell_type": "code",
   "execution_count": 43,
   "id": "94019440",
   "metadata": {},
   "outputs": [],
   "source": [
    "def get_response(messages):\n",
    "        messages=deepcopy(messages)\n",
    "\n",
    "        system_prompt=\"\"\"\n",
    "            You are a helpful AI assistant for a coffee shop application which serves drinks and pastries.\n",
    "            Your task is to determine whether the user is asking something relevant to the coffee shop or not.\n",
    "            The user is allowed to:\n",
    "            1. Ask questions about the coffee shop, like location, working hours, menue items and coffee shop related questions.\n",
    "            2. Ask questions about menue items, they can ask for ingredients in an item and more details about the item.\n",
    "            3. Make an order.\n",
    "            4. ASk about recommendations of what to buy.\n",
    "\n",
    "            The user is NOT allowed to:\n",
    "            1. Ask questions about anything else other than our coffee shop.\n",
    "            2. Ask questions about the staff or how to make a certain menue item.\n",
    "\n",
    "            Your output must be in a valid JSON format.\n",
    "            Each key and value must be wrapped in double quotes.\n",
    "            Do not include any extra text or explanation outside the JSON.\n",
    "            Strictly return only the JSON object.\n",
    "            {\n",
    "            \"chain of thought\": go over each of the points above and make see if the message lies under this point or not. Then you write some your thoughts about what point is this input relevant to.\n",
    "            \"decision\": \"allowed\" or \"not allowed\". Pick one of those. and only write the word.\n",
    "            \"message\": leave the message empty if it's allowed, otherwise write \"Sorry, I can't help with that. Can I help you with your order?\"\n",
    "            }\n",
    "            \"\"\"\n",
    "\n",
    "        input_messages=[{\"role\":\"system\",\"content\":system_prompt}]+messages[-3:]\n",
    "        chatbot_output=get_chatbot_response(client,input_messages,0.7)\n",
    "        print(chatbot_output)\n",
    "        output = postprocess(chatbot_output)\n",
    "        \n",
    "        return output\n",
    "        \n",
    "        "
   ]
  },
  {
   "cell_type": "code",
   "execution_count": 36,
   "id": "cb5bf5e3",
   "metadata": {},
   "outputs": [],
   "source": [
    "def postprocess(output):\n",
    "    try:\n",
    "        # Remove triple backticks or markdown code block if present\n",
    "        cleaned_output = output.strip().strip(\"`\").strip()\n",
    "        parsed_output = json.loads(cleaned_output)\n",
    "    except Exception as e:\n",
    "        raise ValueError(f\"Error parsing model output: {output}\") from e\n",
    "\n",
    "    return {\n",
    "        \"role\": \"assistant\",\n",
    "        \"content\": parsed_output['message'],\n",
    "        \"memory\": {\n",
    "            \"agent\": \"guard_agent\",\n",
    "            \"guard_decision\": parsed_output['decision']\n",
    "        }\n",
    "    }\n"
   ]
  },
  {
   "cell_type": "code",
   "execution_count": 44,
   "id": "16e52e0c",
   "metadata": {},
   "outputs": [],
   "source": [
    "def get_chatbot_response(client,messages,temperature=0):\n",
    "    input_messages=[]\n",
    "    for message in messages:\n",
    "        input_messages.append({\"role\":message[\"role\"],\"content\":message[\"content\"]})\n",
    "\n",
    "        response=client.invoke(input=input_messages,temperature=temperature)\n",
    "\n",
    "    return response.content\n"
   ]
  },
  {
   "cell_type": "code",
   "execution_count": 45,
   "id": "3e790f14",
   "metadata": {},
   "outputs": [
    {
     "name": "stdout",
     "output_type": "stream",
     "text": [
      "{\n",
      "\"chain of thought\": [\"staff\", \"coffee shop\"],\n",
      "\"decision\": \"not allowed\",\n",
      "\"message\": \"Sorry, I can't help with that. Can I help you with your order?\"\n",
      "}\n",
      "{'role': 'assistant', 'content': \"Sorry, I can't help with that. Can I help you with your order?\", 'memory': {'agent': 'guard_agent', 'guard_decision': 'not allowed'}}\n"
     ]
    }
   ],
   "source": [
    "test_messages = [\n",
    "    {\"role\": \"user\", \"content\": \"Please tell us about the staff?\"}\n",
    "]\n",
    "\n",
    "response = get_response(test_messages)\n",
    "print(response)\n"
   ]
  },
  {
   "cell_type": "code",
   "execution_count": null,
   "id": "99317b43",
   "metadata": {},
   "outputs": [],
   "source": []
  }
 ],
 "metadata": {
  "kernelspec": {
   "display_name": "venv",
   "language": "python",
   "name": "python3"
  },
  "language_info": {
   "codemirror_mode": {
    "name": "ipython",
    "version": 3
   },
   "file_extension": ".py",
   "mimetype": "text/x-python",
   "name": "python",
   "nbconvert_exporter": "python",
   "pygments_lexer": "ipython3",
   "version": "3.11.9"
  }
 },
 "nbformat": 4,
 "nbformat_minor": 5
}
